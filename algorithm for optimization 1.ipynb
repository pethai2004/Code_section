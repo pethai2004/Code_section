{
 "cells": [
  {
   "cell_type": "code",
   "execution_count": 298,
   "id": "bb700dd4",
   "metadata": {},
   "outputs": [],
   "source": [
    "import numpy as np\n",
    "import jax\n",
    "import jax.numpy as jnp\n",
    "from jax import grad, jit, vmap, hessian, jacobian\n",
    "from jax import random\n",
    "import matplotlib.pyplot as plt\n",
    "from matplotlib.animation import FuncAnimation\n",
    "\n",
    "import copy, timeit\n",
    "#%matplotlib"
   ]
  },
  {
   "cell_type": "code",
   "execution_count": 2,
   "id": "93ff9dd8",
   "metadata": {},
   "outputs": [],
   "source": [
    "def Rastrigin(x, A=20): # define objective (map from n dim to 1 dim)\n",
    "    f = A * len(x) + jnp.sum(jnp.array([xi ** 2 - A * jnp.cos(2 * xi * jnp.pi) for xi in x]))\n",
    "    return f\n",
    "\n",
    "RastriginGrad = grad(Rastrigin) # use jacobian() if function map from n to m. \n",
    "#Here grad is less computational expensive that jacobian\n",
    "RastriginGradSec = jacobian(grad(Rastrigin))\n",
    "RastriginHess = hessian(Rastrigin) \n",
    "RastriginJac = jacobian(Rastrigin)\n",
    "initial_x = np.random.rand(20)"
   ]
  },
  {
   "cell_type": "markdown",
   "id": "c638faff",
   "metadata": {},
   "source": [
    "### backtracking line search"
   ]
  },
  {
   "cell_type": "code",
   "execution_count": 3,
   "id": "0890393b",
   "metadata": {},
   "outputs": [],
   "source": [
    "def Backtracking(xi, func, p, grads, alpha_init=1., c=0.7, low= 0.7): # perform inexact line search\n",
    "    a = alpha_init\n",
    "    while True:\n",
    "        if func(xi + a * p) <= func(xi) + c * a * jnp.dot(p, grads):\n",
    "            return a\n",
    "        else:\n",
    "            a = low * a"
   ]
  },
  {
   "cell_type": "markdown",
   "id": "ffe80752",
   "metadata": {},
   "source": [
    "### Implement Steepest descent \n",
    "\n",
    "The search direction is given by\n",
    "$$p_k = - \\frac{{\\nabla}f(\\textbf{x}_k)}{\\parallel{\\nabla}f(\\textbf{x}_k)\\parallel}$$\n",
    "And general update rule is given by\n",
    "$$x_{k+1} \\leftarrow x_k + \\alpha p_k$$"
   ]
  },
  {
   "cell_type": "code",
   "execution_count": 4,
   "id": "8b73335f",
   "metadata": {},
   "outputs": [
    {
     "name": "stderr",
     "output_type": "stream",
     "text": [
      "WARNING:absl:No GPU/TPU found, falling back to CPU. (Set TF_CPP_MIN_LOG_LEVEL=0 and rerun for more info.)\n"
     ]
    },
    {
     "name": "stdout",
     "output_type": "stream",
     "text": [
      "1.0 147.31888 115.45373\n",
      "1.0 95.1492 89.765144\n",
      "1.0 98.36395 47.897034\n",
      "1.0 100.5531 28.301117\n",
      "1.0 68.56797 14.885178\n",
      "1.0 58.62729 9.770447\n",
      "1.0 24.938732 9.215057\n",
      "1.0 14.2851715 9.008835\n",
      "1.0 6.549005 8.9639435\n",
      "1.0 2.7152522 8.957108\n",
      "1.0 1.3973312 8.955353\n",
      "1.0 0.7512998 8.95488\n",
      "1.0 0.43471104 8.954742\n",
      "1.0 0.27957657 8.954666\n",
      "1.0 0.12444509 8.954651\n",
      "1.0 0.07123309 8.954651\n",
      "frist evaluation 166.91321 final evaluation 8.954651\n"
     ]
    }
   ],
   "source": [
    "theshold = 0.1\n",
    "X_k = initial_x #np.random.rand(20)\n",
    "eval_first = Rastrigin(X_k)\n",
    "alpha = 1.\n",
    "while True:\n",
    "    grad_k = RastriginGrad(X_k)\n",
    "    grad_norm_k = jnp.linalg.norm(grad_k)\n",
    "    direction_p = - grad_k / grad_norm_k\n",
    "    alpha_k = Backtracking(X_k, Rastrigin, direction_p, grad_k)\n",
    "    X_k = X_k + alpha_k * direction_p\n",
    "    alpha_k = alpha\n",
    "    print(alpha_k, grad_norm_k, Rastrigin(X_k))\n",
    "    if grad_norm_k < theshold:\n",
    "        break\n",
    "print('frist evaluation', eval_first, 'final evaluation', Rastrigin(X_k))\n"
   ]
  },
  {
   "cell_type": "markdown",
   "id": "bbf987de",
   "metadata": {},
   "source": [
    "### Newton Method \n",
    "\n",
    "The search direction is given by\n",
    "$$p_k = - \\frac{{\\nabla}f(\\textbf{x}_k)}{{\\nabla}^2f(\\textbf{x}_k)}$$"
   ]
  },
  {
   "cell_type": "code",
   "execution_count": 5,
   "id": "5368a799",
   "metadata": {},
   "outputs": [
    {
     "name": "stdout",
     "output_type": "stream",
     "text": [
      "1.0 147.31888 151.47249\n",
      "1.0 79.55184 150.27101\n",
      "1.0 38.12523 148.77115\n",
      "1.0 4.658138 148.7439\n",
      "1.0 0.013915834 148.7439\n",
      "1.0 3.095427e-05 148.7439\n",
      "frist evaluation 166.91321 final evaluation 148.7439\n"
     ]
    }
   ],
   "source": [
    "X_k = initial_x\n",
    "eval_first = Rastrigin(X_k)\n",
    "evalx = []\n",
    "alpha = 1.\n",
    "\n",
    "while True:\n",
    "    evalx.append(X_k)\n",
    "    G2 = np.diag(1 / np.diag(RastriginHess(X_k))) #np.linalg.pinv(RastriginHess(X_k))\n",
    "    G1 = RastriginGrad(X_k) \n",
    "    direction_p =  - G2.dot(G1)\n",
    "    alpha_k = Backtracking(X_k, Rastrigin, direction_p, G1, c=0.1, low= 0.8)\n",
    "    X_k = X_k + alpha_k * direction_p\n",
    "    alpha_k = alpha_k\n",
    "    \n",
    "    grad_norm_k = jnp.linalg.norm(G1)\n",
    "    print(alpha_k, grad_norm_k, Rastrigin(X_k))\n",
    "    if grad_norm_k < theshold*0.1:\n",
    "        break\n",
    "print('frist evaluation', eval_first, 'final evaluation', Rastrigin(X_k))"
   ]
  },
  {
   "cell_type": "markdown",
   "id": "2bf92525",
   "metadata": {},
   "source": [
    "### Example on linear regression"
   ]
  },
  {
   "cell_type": "code",
   "execution_count": 6,
   "id": "d0385c79",
   "metadata": {},
   "outputs": [
    {
     "name": "stdout",
     "output_type": "stream",
     "text": [
      "first eval 3.6861901\n",
      "last eval 7.8034644e-13\n"
     ]
    }
   ],
   "source": [
    "def least_squares(A, b, x): #GRAD : A.T.dot(A.dot(x)-b)/len(A), HESS : #A.T.dot(A)/len(A)\n",
    "    return (0.5/len(A)) * jnp.linalg.norm(jnp.dot(A, x)-b)**2\n",
    "\n",
    "ghk = jacobian(grad(least_squares, 2), 2)\n",
    "gk = grad(least_squares ,2)\n",
    "\n",
    "Ns = 100\n",
    "Axxk = np.random.rand(1000, Ns)\n",
    "xxk = np.random.rand(Ns, )\n",
    "b = Axxk.dot(xxk)\n",
    "\n",
    "xs = np.random.rand(Ns, ) \n",
    "print('first eval', least_squares(Axxk, b, xs))\n",
    "for step in [1, 1]:\n",
    "    Hinv = np.linalg.pinv(ghk(Axxk, b, xs).reshape(Ns, Ns))\n",
    "    xs = xs - step * Hinv.dot(gk(Axxk, b, xs))\n",
    "print('last eval', least_squares(Axxk, b, xs))"
   ]
  },
  {
   "cell_type": "markdown",
   "id": "56a91263",
   "metadata": {},
   "source": [
    "### Newton's with by solving system of linear equation\n",
    "$$p_k =  \\mathbf{H}^{-1}_k{\\nabla}f(\\textbf{x}_k)$$\n",
    "$$\\mathbf{H}_k p_k = g_k$$"
   ]
  },
  {
   "cell_type": "code",
   "execution_count": 7,
   "id": "bbcc2388",
   "metadata": {},
   "outputs": [],
   "source": [
    "EPS = 0.00000001\n",
    "def conjugate_gradient(Ax, b, max_iters=100, tol=0.001, CG_time_step=0):\n",
    "    'A is (S++)'\n",
    "    x = np.zeros_like(b)\n",
    "    r = copy.deepcopy(b)  \n",
    "    p = copy.deepcopy(r)\n",
    "    r_dot_old = np.dot(r, r)\n",
    "\n",
    "    for _ in range(max_iters):\n",
    "        z = np.dot(Ax, p) # for hessian vector product use Ax(p) as a function \n",
    "        alpha = r_dot_old /( np.dot(p, z) + EPS)\n",
    "        x += alpha * p\n",
    "        r -= alpha * z\n",
    "        CG_time_step+=1\n",
    "        if tol >= np.linalg.norm(r):\n",
    "            return x #CG_time_step\n",
    "        \n",
    "        r_dot_new = np.dot(r, r)\n",
    "        p = r + (r_dot_new / (r_dot_old + EPS)) * p\n",
    "        r_dot_old = r_dot_new\n",
    "\n",
    "    return x #CG_time_step"
   ]
  },
  {
   "cell_type": "code",
   "execution_count": 8,
   "id": "b43e23ac",
   "metadata": {},
   "outputs": [],
   "source": [
    "grad_lg = grad(least_squares, 2)\n",
    "hess_lg = lambda as_, bs, xs: jacobian(grad(least_squares, 2), 2)(as_, bs, xs).reshape(Ns, Ns)\n",
    "#Hessian_vector_prod = lambda f\n",
    "\n",
    "# def hvp(f, x, v):\n",
    "#     return grad(lambda x: jnp.vdot(grad(f)(x), v))(x)\n",
    "\n",
    "def Newton_ls(func, gradf, hessf, x_init, solver=conjugate_gradient, max_iters=20):\n",
    "    x = x_init\n",
    "    alpha = 0.1 # use fix step size\n",
    "    First_eval = func(Axxk, b, x)\n",
    "    start = timeit.default_timer()\n",
    "    \n",
    "    for i in range(max_iters):\n",
    "        G2 = hessf(Axxk, b, x)\n",
    "        G1 = gradf(Axxk, b, x)\n",
    "        assert np.all(np.linalg.eigvals(G2) > 0), 'hessian is not possitive-definite'\n",
    "        direction_p = - solver(G2, G1)\n",
    "        x = x + alpha * direction_p\n",
    "    execution_time = timeit.default_timer() - start\n",
    "    print('frist_eval : ', First_eval, 'last_eval', func(Axxk, b, x), 'time :', execution_time)\n",
    "    return x"
   ]
  },
  {
   "cell_type": "code",
   "execution_count": 9,
   "id": "e458ab0d",
   "metadata": {
    "scrolled": true
   },
   "outputs": [
    {
     "name": "stdout",
     "output_type": "stream",
     "text": [
      "frist_eval :  0.6886535 last_eval 0.010180488 time : 0.7253474929999975\n",
      "frist_eval :  0.6886535 last_eval 0.010178898 time : 0.8021021949999998\n"
     ]
    }
   ],
   "source": [
    "xs = np.random.rand(Ns, ) \n",
    "solver0 = lambda A, b: np.linalg.lstsq(A, b, rcond=None)[0]\n",
    "#solver1 = grad least square\n",
    "x_solved = Newton_ls(least_squares, grad_lg, hess_lg, xs, solver=conjugate_gradient) # using conjugate gradient.\n",
    "x_solved = Newton_ls(least_squares, grad_lg, hess_lg, xs, solver=solver0) # using least squre."
   ]
  },
  {
   "cell_type": "markdown",
   "id": "df6c4709",
   "metadata": {},
   "source": [
    "### Approximate hessian newton method : BFGS"
   ]
  },
  {
   "cell_type": "code",
   "execution_count": 10,
   "id": "404eb1c2",
   "metadata": {},
   "outputs": [],
   "source": [
    "def Newton_bgfs(func, x, gradf, hessf, max_iters=20):\n",
    "    First_eval = func(Axxk, b, x)\n",
    "    \n",
    "    I = np.eye(Ns) \n",
    "    G2_inv = I# initialize inverse H as identity\n",
    "    alpha = 0.1 #fix search distance\n",
    "    xss = []\n",
    "    xss.append(x)\n",
    "    \n",
    "    for _ in range(max_iters):\n",
    "        \n",
    "        G2 = hessf(Axxk, b, x)\n",
    "        G1 = gradf(Axxk, b, x)\n",
    "        direction_p = - jnp.dot(G2_inv, G1)\n",
    "        x = x + alpha * direction_p\n",
    "        xss.append(x)\n",
    "        \n",
    "        s = xss[-1] - xss[-2]\n",
    "        y = gradf(Axxk, b, xss[-1]) - gradf(Axxk, b, xss[-2])\n",
    "        ys = jnp.dot(y, s)\n",
    "        ssT = jnp.outer(s, s)\n",
    "        \n",
    "        G2 = G2 + np.outer(y, y)/ys\n",
    "        G2 = G2 - G2.dot(ssT.dot(G2))/np.dot(s, G2.dot(s))\n",
    "\n",
    "        \n",
    "        left = I - np.outer(s, y)/ys\n",
    "        right = I - np.outer(y, s)/ys\n",
    "        G2_inv = (left.dot(G2_inv).dot(right) + ssT/ys)\n",
    "        print('eval_function : ', func(Axxk, b, x), 'grad : ', np.linalg.norm(G1))\n",
    "    last_eval = func(Axxk, b, x)\n",
    "    return x, xss"
   ]
  },
  {
   "cell_type": "code",
   "execution_count": 11,
   "id": "8a107b15",
   "metadata": {
    "scrolled": true
   },
   "outputs": [
    {
     "name": "stdout",
     "output_type": "stream",
     "text": [
      "eval_function :  3.1413367 grad :  7.1612897\n",
      "eval_function :  2.6830497 grad :  10.85475\n",
      "eval_function :  2.2854056 grad :  9.772662\n",
      "eval_function :  1.941838 grad :  8.768967\n",
      "eval_function :  1.6461618 grad :  7.843107\n",
      "eval_function :  1.3926367 grad :  6.9934034\n",
      "eval_function :  1.1759866 grad :  6.2173057\n",
      "eval_function :  0.99141794 grad :  5.5115523\n",
      "eval_function :  0.83462334 grad :  4.8723717\n",
      "eval_function :  0.7017573 grad :  4.2956653\n",
      "eval_function :  0.5894216 grad :  3.7771199\n",
      "eval_function :  0.49463367 grad :  3.3123631\n",
      "eval_function :  0.41479173 grad :  2.8970504\n",
      "eval_function :  0.34764308 grad :  2.5269356\n",
      "eval_function :  0.2912425 grad :  2.1979585\n",
      "eval_function :  0.24392174 grad :  1.9062487\n",
      "eval_function :  0.20425588 grad :  1.6481763\n",
      "eval_function :  0.17103091 grad :  1.4203701\n",
      "eval_function :  0.14321744 grad :  1.2197078\n",
      "eval_function :  0.119943924 grad :  1.0433307\n"
     ]
    }
   ],
   "source": [
    "xs = np.random.rand(Ns, ) \n",
    "xs_solved = Newton_bgfs(least_squares, xs, grad_lg, hess_lg, max_iters=20)"
   ]
  },
  {
   "cell_type": "markdown",
   "id": "98ddcca4",
   "metadata": {},
   "source": [
    "## Time to re-invent the wheel !!"
   ]
  },
  {
   "cell_type": "markdown",
   "id": "754f6cfb",
   "metadata": {},
   "source": [
    "toy example neural network for classification."
   ]
  },
  {
   "cell_type": "code",
   "execution_count": 1132,
   "id": "11e08c8f",
   "metadata": {},
   "outputs": [],
   "source": [
    "import tensorflow_datasets as tfds\n",
    "(ds_train, ds_test) = tfds.load('mnist',split=['train', 'test'],shuffle_files=True,as_supervised=True)\n",
    "X_data = np.asarray([i[0] for i in tfds.as_numpy(ds_train)]).reshape(60000, 28 * 28) / 255\n",
    "y_target = np.asarray([i[1] for i in tfds.as_numpy(ds_train)]).reshape(-1, 1)\n",
    "\n",
    "X_data_test = np.asarray([i[0] for i in tfds.as_numpy(ds_test)]).reshape(10000, 28 * 28) / 255\n",
    "y_target_test = np.asarray([i[1] for i in tfds.as_numpy(ds_test)]).reshape(-1, 1)"
   ]
  },
  {
   "cell_type": "code",
   "execution_count": 1189,
   "id": "d6fdfa51",
   "metadata": {},
   "outputs": [],
   "source": [
    "# define probabilistic model as a neural network\n",
    "def actv(inp): # try no activation\n",
    "    return jax.nn.relu(inp) #1.0 / (1.0 + jnp.exp(-inp))\n",
    "\n",
    "def forward_net(X, w, b):\n",
    "    x_k = X\n",
    "    for wi, bi in zip(w, b):\n",
    "        x_k = actv(jnp.dot(x_k, wi) + bi)\n",
    "    return x_k\n",
    "\n",
    "def loss(y, x):\n",
    "    logits = jax.nn.softmax(x)\n",
    "    L = - jnp.sum(y * jnp.log(logits), axis=1)\n",
    "    return jnp.mean(L.at[L == jnp.inf].set(0.))\n",
    "\n",
    "func = lambda x, w, b, y : loss(y, forward_net(x, w, b))\n",
    "gradfunc = grad(func, (1, 2)) # respect to arg 1 and 2\n",
    "#hessfunc = hessian(func)\n",
    "\n",
    "W_s = [(28 * 28, 128), (128, 10)]\n",
    "B_s = [(128, ), (10, )]"
   ]
  },
  {
   "cell_type": "code",
   "execution_count": 1190,
   "id": "0edadeff",
   "metadata": {},
   "outputs": [],
   "source": [
    "def flatvariable(var):\n",
    "    return np.concatenate([v.reshape([np.prod(v.shape)]) for v in var], axis=0)\n",
    "def reverse_var_shape(var, shape):\n",
    "    v = []\n",
    "    prods = 0\n",
    "    for each_layer, s in zip(var, shape):\n",
    "        prods0 = int(prods + np.prod(s))\n",
    "        v.append(jnp.array(var[prods:prods0].reshape(s)))\n",
    "        prods = prods0\n",
    "    return v\n",
    "\n",
    "def accuracy_c():\n",
    "    predicted = np.argmax(forward_net(X_data_test, W, B), axis=1)\n",
    "    return np.mean(predicted == y_target_test.flatten())\n",
    "def one_hot(x, k, dtype=np.float32):\n",
    "    return jnp.squeeze(jnp.array(x[:, None] == np.arange(k), dtype))\n",
    "\n",
    "flat_both = lambda t0, t1 : (flatvariable(t0), flatvariable(t1))\n",
    "rev_both = lambda t0, t1 : (reverse_var_shape(t0, W_s), reverse_var_shape(t1, B_s))"
   ]
  },
  {
   "cell_type": "code",
   "execution_count": 1244,
   "id": "c52a56e2",
   "metadata": {},
   "outputs": [],
   "source": [
    "W = [np.random.normal(0, 0.1, (28 * 28, 128)), np.random.normal(0, 0.1, (128, 10))]\n",
    "B = [np.zeros((128,)), np.zeros((10,))]\n",
    "old = (W, B)"
   ]
  },
  {
   "cell_type": "code",
   "execution_count": 1245,
   "id": "b2d43557",
   "metadata": {
    "scrolled": true
   },
   "outputs": [
    {
     "name": "stdout",
     "output_type": "stream",
     "text": [
      "102.4832 0.0918\n",
      "102.39075 0.2086\n",
      "102.398575 0.39659998\n",
      "102.42536 0.5919\n",
      "102.47721 0.66749996\n",
      "102.54755 0.71199995\n",
      "102.638794 0.7369\n",
      "102.74576 0.7586\n",
      "102.866554 0.77379996\n",
      "102.995674 0.78389996\n",
      "103.12371 0.7919\n",
      "103.25194 0.8013\n",
      "103.37554 0.8066\n",
      "103.49394 0.81299996\n",
      "103.59837 0.8149\n",
      "103.69876 0.8186\n",
      "103.78772 0.82229996\n",
      "103.87356 0.8244\n",
      "103.94345 0.8287\n",
      "104.0116 0.8312\n"
     ]
    }
   ],
   "source": [
    "alpha_k = 0.01\n",
    "for i in range(10000):\n",
    "    s = np.random.choice(len(X_data), 500)\n",
    "    grad_k_w, grad_k_b = flat_both(*gradfunc(X_data[s], W, B, one_hot(y_target[s], 10)))\n",
    "    #grad_norm_k_w, grad_norm_k_b = jnp.linalg.norm(grad_k_w), jnp.linalg.norm(grad_k_b)\n",
    "\n",
    "    W, B = flat_both(W, B)\n",
    "    W = W + alpha_k * - grad_k_w\n",
    "    B = B + alpha_k * - grad_k_b\n",
    "    W, B = rev_both(W, B)\n",
    "    if accuracy_c() > 0.95:\n",
    "        break\n",
    "    if i % 500 == 0 :\n",
    "        print(func(X_data_test, W, B, y_target_test), accuracy_c())"
   ]
  },
  {
   "cell_type": "code",
   "execution_count": 1255,
   "id": "270960aa",
   "metadata": {},
   "outputs": [
    {
     "data": {
      "image/png": "[encoded data removed]",
      "text/plain": [
       "<Figure size 432x288 with 40 Axes>"
      ]
     },
     "metadata": {
      "needs_background": "light"
     },
     "output_type": "display_data"
    }
   ],
   "source": [
    "N_test = 40\n",
    "P0 = np.argmax(forward_net(X_data_test[:N_test], W, B), axis=1)\n",
    "im = X_data_test[:N_test].reshape(N_test, 28, 28)\n",
    "\n",
    "fig, axs = plt.subplots(4, 10)\n",
    "Is = 0\n",
    "for i in range(4):\n",
    "    for k in range(10):\n",
    "        axs[i, k].imshow(im[Is])\n",
    "        axs[i, k].set_title(P0[Is])\n",
    "        axs[i, k].set_axis_off()\n",
    "        Is += 1\n",
    "fig.tight_layout()"
   ]
  },
  {
   "cell_type": "markdown",
   "id": "32913e3e",
   "metadata": {},
   "source": [
    "# thank you for reading"
   ]
  }
 ],
 "metadata": {
  "kernelspec": {
   "display_name": "Python 3 (ipykernel)",
   "language": "python",
   "name": "python3"
  },
  "language_info": {
   "codemirror_mode": {
    "name": "ipython",
    "version": 3
   },
   "file_extension": ".py",
   "mimetype": "text/x-python",
   "name": "python",
   "nbconvert_exporter": "python",
   "pygments_lexer": "ipython3",
   "version": "3.8.13"
  }
 },
 "nbformat": 4,
 "nbformat_minor": 5
}
